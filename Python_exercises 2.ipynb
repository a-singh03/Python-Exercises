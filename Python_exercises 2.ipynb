{
 "cells": [
  {
   "cell_type": "code",
   "execution_count": 3,
   "id": "aa45773c",
   "metadata": {},
   "outputs": [
    {
     "data": {
      "text/plain": [
       "[2, 3, 4, 5, 'a', 'b', 'c', 'd']"
      ]
     },
     "execution_count": 3,
     "metadata": {},
     "output_type": "execute_result"
    }
   ],
   "source": [
    "l2 = [2, 3, 4 ,5]\n",
    "l3 = ['a', 'b', 'c', 'd']\n",
    "l4 = l2 + l3\n",
    "l4"
   ]
  },
  {
   "cell_type": "code",
   "execution_count": 5,
   "id": "aced76ea",
   "metadata": {},
   "outputs": [
    {
     "name": "stdout",
     "output_type": "stream",
     "text": [
      "The current date and time: \n",
      "2022-10-27 19:51:19\n"
     ]
    }
   ],
   "source": [
    "import datetime\n",
    "now = datetime.datetime.now()\n",
    "print('The current date and time: ')\n",
    "print (now.strftime(\"%Y-%m-%d %H:%M:%S\"))\n"
   ]
  },
  {
   "cell_type": "code",
   "execution_count": 1,
   "id": "b18fd81e",
   "metadata": {},
   "outputs": [
    {
     "name": "stdout",
     "output_type": "stream",
     "text": [
      "Enter the first name: Ankita\n",
      "Enter the last name: Singh\n"
     ]
    },
    {
     "data": {
      "text/plain": [
       "['Singh', 'Ankita']"
      ]
     },
     "execution_count": 1,
     "metadata": {},
     "output_type": "execute_result"
    }
   ],
   "source": [
    "l = []\n",
    "f = input('Enter the first name: ')\n",
    "l.append(f)\n",
    "s = input('Enter the last name: ')\n",
    "l.append(s)\n",
    "l.reverse()\n",
    "l\n"
   ]
  },
  {
   "cell_type": "code",
   "execution_count": 69,
   "id": "bf551887",
   "metadata": {},
   "outputs": [
    {
     "data": {
      "text/plain": [
       "['singh', 'vinod', 'singh', 'ankita']"
      ]
     },
     "execution_count": 69,
     "metadata": {},
     "output_type": "execute_result"
    }
   ],
   "source": [
    "l1 = ['ankita', 'singh', 'vinod', 'singh']\n",
    "l1.reverse()\n",
    "l1"
   ]
  },
  {
   "cell_type": "code",
   "execution_count": 64,
   "id": "10213e45",
   "metadata": {},
   "outputs": [
    {
     "data": {
      "text/plain": [
       "'atiknA'"
      ]
     },
     "execution_count": 64,
     "metadata": {},
     "output_type": "execute_result"
    }
   ],
   "source": [
    "s = 'Ankita'\n",
    "s1 = s[::-1]\n",
    "s1"
   ]
  },
  {
   "cell_type": "code",
   "execution_count": 1,
   "id": "e539a5f4",
   "metadata": {},
   "outputs": [
    {
     "data": {
      "text/plain": [
       "'y'"
      ]
     },
     "execution_count": 1,
     "metadata": {},
     "output_type": "execute_result"
    }
   ],
   "source": [
    "s0 = 'Python'\n",
    "s0[1]"
   ]
  },
  {
   "cell_type": "code",
   "execution_count": null,
   "id": "eb0b64fb",
   "metadata": {},
   "outputs": [],
   "source": [
    "r = input('Enter a number: ' )\n",
    "r = float(r)\n",
    "r1 = r*r\n",
    "area = float(3.14*r1)\n",
    "print('The area of the circle is' , area)"
   ]
  },
  {
   "cell_type": "code",
   "execution_count": 1,
   "id": "d04aec7f",
   "metadata": {},
   "outputs": [
    {
     "name": "stdout",
     "output_type": "stream",
     "text": [
      "Enter a number: 2\n"
     ]
    },
    {
     "data": {
      "text/plain": [
       "4.0"
      ]
     },
     "execution_count": 1,
     "metadata": {},
     "output_type": "execute_result"
    }
   ],
   "source": [
    "n1 = float(input('Enter a number: '))\n",
    "n2 = n1**2\n",
    "n2"
   ]
  },
  {
   "cell_type": "code",
   "execution_count": 37,
   "id": "e0fa29c5",
   "metadata": {},
   "outputs": [
    {
     "name": "stdout",
     "output_type": "stream",
     "text": [
      "enter the numbers:1,2,3,4,5\n",
      "['1,2,3,4,5']\n",
      "('1,2,3,4,5',)\n"
     ]
    }
   ],
   "source": [
    "a = input('enter the numbers:')\n",
    "l = [a]\n",
    "t = tuple(l)\n",
    "print(l)\n",
    "print(t)\n"
   ]
  },
  {
   "cell_type": "code",
   "execution_count": 2,
   "id": "e7710ed9",
   "metadata": {},
   "outputs": [
    {
     "name": "stdout",
     "output_type": "stream",
     "text": [
      "Enter a number:23\n",
      "The number n is odd\n"
     ]
    }
   ],
   "source": [
    "n = input('Enter a number:')\n",
    "n = int(n)\n",
    "mod = n % 2 \n",
    "if mod == 0:\n",
    "    print('The number' , 'n' ,'is even')\n",
    "else:\n",
    "    print('The number' , 'n' , 'is odd')"
   ]
  },
  {
   "cell_type": "code",
   "execution_count": 43,
   "id": "ef7f7078",
   "metadata": {},
   "outputs": [
    {
     "data": {
      "text/plain": [
       "<module 'os' from 'C:\\\\Ankita\\\\lib\\\\os.py'>"
      ]
     },
     "execution_count": 43,
     "metadata": {},
     "output_type": "execute_result"
    }
   ],
   "source": [
    "import os\n",
    "os"
   ]
  },
  {
   "cell_type": "code",
   "execution_count": 52,
   "id": "452b13fa",
   "metadata": {},
   "outputs": [
    {
     "name": "stdout",
     "output_type": "stream",
     "text": [
      "Enter a letter: e\n",
      "The letter e is a vowel\n"
     ]
    }
   ],
   "source": [
    "a = input('Enter a letter: ')\n",
    "v = ['a', 'e', 'i', 'o', 'u']\n",
    "if a in v:\n",
    "    print('The letter' , a , 'is a vowel' )\n",
    "else:\n",
    "    print('The letter' , a , 'is not a vowel')"
   ]
  },
  {
   "cell_type": "code",
   "execution_count": 53,
   "id": "6f5d4bcd",
   "metadata": {},
   "outputs": [
    {
     "data": {
      "text/plain": [
       "{'Black', 'White'}"
      ]
     },
     "execution_count": 53,
     "metadata": {},
     "output_type": "execute_result"
    }
   ],
   "source": [
    "color_list_1 = set([\"White\", \"Black\", \"Red\"])\n",
    "color_list_2 = set([\"Red\", \"Green\"])\n",
    "color_list_1.difference(color_list_2)"
   ]
  },
  {
   "cell_type": "code",
   "execution_count": null,
   "id": "d47ea156",
   "metadata": {},
   "outputs": [],
   "source": [
    "r = input('Enter a number: ' )\n",
    "r = float(r)\n",
    "r1 = r*r\n",
    "area = float(3.14*r1)\n",
    "print('The area of the circle is' , area)"
   ]
  },
  {
   "cell_type": "code",
   "execution_count": null,
   "id": "548fdd24",
   "metadata": {},
   "outputs": [],
   "source": [
    "r = input('Enter a number: ' )\n",
    "r1 = r*r\n",
    "area = float(3.14*r1)\n",
    "print('The area of the circle is' , area)"
   ]
  },
  {
   "cell_type": "code",
   "execution_count": 12,
   "id": "4f24c290",
   "metadata": {},
   "outputs": [
    {
     "name": "stdout",
     "output_type": "stream",
     "text": [
      "Enter the radius: 2\n",
      "The area of the circle is 12.56\n"
     ]
    }
   ],
   "source": [
    "r = float(input('Enter the radius: '))\n",
    "r1 = r**r\n",
    "a = float(3.14*r1)\n",
    "print('The area of the circle is' , a)"
   ]
  },
  {
   "cell_type": "code",
   "execution_count": 16,
   "id": "45271245",
   "metadata": {},
   "outputs": [
    {
     "name": "stdout",
     "output_type": "stream",
     "text": [
      "28782\n"
     ]
    }
   ],
   "source": [
    "n = 123\n",
    "n2 = 234\n",
    "n1 = n*n2\n",
    "print(n1)"
   ]
  },
  {
   "cell_type": "code",
   "execution_count": 24,
   "id": "fac55e24",
   "metadata": {},
   "outputs": [
    {
     "name": "stdout",
     "output_type": "stream",
     "text": [
      "[2, 3, 4, 4, 6, 8, 6, 9, 12]\n"
     ]
    }
   ],
   "source": [
    "def mult():\n",
    "    a = [1,2,3]\n",
    "    b = [2,3,4]\n",
    "    e = []\n",
    "    for i in a:\n",
    "        for j in b:\n",
    "            z = int(i*j)\n",
    "            e.append(z)\n",
    "    print(e)\n",
    "            \n",
    "mult()"
   ]
  },
  {
   "cell_type": "code",
   "execution_count": 37,
   "id": "56521d1f",
   "metadata": {},
   "outputs": [
    {
     "name": "stdout",
     "output_type": "stream",
     "text": [
      "enter a string separated by spaces: 1 2 3\n",
      "['1', '2', '3']\n"
     ]
    }
   ],
   "source": [
    "a = input('enter a string separated by spaces: ')\n",
    "b = a.split()\n",
    "print(b)"
   ]
  },
  {
   "cell_type": "code",
   "execution_count": 2,
   "id": "61b5edc2",
   "metadata": {},
   "outputs": [
    {
     "name": "stdout",
     "output_type": "stream",
     "text": [
      "Enter total numbers: 4\n",
      "Enter total numbers: 2\n",
      "[4, 3, 2, 1, 0]\n",
      "[2, 1, 0]\n",
      "[8, 4, 0, 6, 3, 0, 4, 2, 0, 2, 1, 0, 0, 0, 0]\n"
     ]
    }
   ],
   "source": [
    "def mult():\n",
    "    a = int(input('Enter total numbers: '))\n",
    "    b = int(input('Enter total numbers: '))\n",
    "    s = range(a, -1, -1)\n",
    "    t = list(s)\n",
    "    r = range(b, -1, -1)\n",
    "    u = list(r)\n",
    "    c = []\n",
    "    for i in t:\n",
    "        for j in u:\n",
    "            z = int(i*j)\n",
    "            c.append(z)\n",
    "    print(t)\n",
    "    print(u)\n",
    "    print(c)\n",
    "        \n",
    "mult()"
   ]
  }
 ],
 "metadata": {
  "kernelspec": {
   "display_name": "Python 3 (ipykernel)",
   "language": "python",
   "name": "python3"
  },
  "language_info": {
   "codemirror_mode": {
    "name": "ipython",
    "version": 3
   },
   "file_extension": ".py",
   "mimetype": "text/x-python",
   "name": "python",
   "nbconvert_exporter": "python",
   "pygments_lexer": "ipython3",
   "version": "3.9.13"
  }
 },
 "nbformat": 4,
 "nbformat_minor": 5
}
alphabet = input("Enter an alphabet: ")
ascii_code = ord(alphabet)
number = ascii_code - 96
print("The corresponding number is:", number)
