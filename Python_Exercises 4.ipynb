{
 "cells": [
  {
   "cell_type": "code",
   "execution_count": 37,
   "id": "36265108",
   "metadata": {},
   "outputs": [
    {
     "name": "stdout",
     "output_type": "stream",
     "text": [
      "50 number of bottles on the wall\n",
      "50 number of bottles\n",
      "Take one bottle down\n",
      "49 number of bottles left.\n",
      "\n",
      "49 number of bottles on the wall\n",
      "49 number of bottles\n",
      "Take one bottle down\n",
      "48 number of bottles left.\n",
      "\n",
      "48 number of bottles on the wall\n",
      "48 number of bottles\n",
      "Take one bottle down\n",
      "47 number of bottles left.\n",
      "\n",
      "47 number of bottles on the wall\n",
      "47 number of bottles\n",
      "Take one bottle down\n",
      "46 number of bottles left.\n",
      "\n",
      "46 number of bottles on the wall\n",
      "46 number of bottles\n",
      "Take one bottle down\n",
      "45 number of bottles left.\n",
      "\n",
      "45 number of bottles on the wall\n",
      "45 number of bottles\n",
      "Take one bottle down\n",
      "44 number of bottles left.\n",
      "\n",
      "44 number of bottles on the wall\n",
      "44 number of bottles\n",
      "Take one bottle down\n",
      "43 number of bottles left.\n",
      "\n",
      "43 number of bottles on the wall\n",
      "43 number of bottles\n",
      "Take one bottle down\n",
      "42 number of bottles left.\n",
      "\n",
      "42 number of bottles on the wall\n",
      "42 number of bottles\n",
      "Take one bottle down\n",
      "41 number of bottles left.\n",
      "\n",
      "41 number of bottles on the wall\n",
      "41 number of bottles\n",
      "Take one bottle down\n",
      "40 number of bottles left.\n",
      "\n",
      "40 number of bottles on the wall\n",
      "40 number of bottles\n",
      "Take one bottle down\n",
      "39 number of bottles left.\n",
      "\n",
      "39 number of bottles on the wall\n",
      "39 number of bottles\n",
      "Take one bottle down\n",
      "38 number of bottles left.\n",
      "\n",
      "38 number of bottles on the wall\n",
      "38 number of bottles\n",
      "Take one bottle down\n",
      "37 number of bottles left.\n",
      "\n",
      "37 number of bottles on the wall\n",
      "37 number of bottles\n",
      "Take one bottle down\n",
      "36 number of bottles left.\n",
      "\n",
      "36 number of bottles on the wall\n",
      "36 number of bottles\n",
      "Take one bottle down\n",
      "35 number of bottles left.\n",
      "\n",
      "35 number of bottles on the wall\n",
      "35 number of bottles\n",
      "Take one bottle down\n",
      "34 number of bottles left.\n",
      "\n",
      "34 number of bottles on the wall\n",
      "34 number of bottles\n",
      "Take one bottle down\n",
      "33 number of bottles left.\n",
      "\n",
      "33 number of bottles on the wall\n",
      "33 number of bottles\n",
      "Take one bottle down\n",
      "32 number of bottles left.\n",
      "\n",
      "32 number of bottles on the wall\n",
      "32 number of bottles\n",
      "Take one bottle down\n",
      "31 number of bottles left.\n",
      "\n",
      "31 number of bottles on the wall\n",
      "31 number of bottles\n",
      "Take one bottle down\n",
      "30 number of bottles left.\n",
      "\n",
      "30 number of bottles on the wall\n",
      "30 number of bottles\n",
      "Take one bottle down\n",
      "29 number of bottles left.\n",
      "\n",
      "29 number of bottles on the wall\n",
      "29 number of bottles\n",
      "Take one bottle down\n",
      "28 number of bottles left.\n",
      "\n",
      "28 number of bottles on the wall\n",
      "28 number of bottles\n",
      "Take one bottle down\n",
      "27 number of bottles left.\n",
      "\n",
      "27 number of bottles on the wall\n",
      "27 number of bottles\n",
      "Take one bottle down\n",
      "26 number of bottles left.\n",
      "\n",
      "26 number of bottles on the wall\n",
      "26 number of bottles\n",
      "Take one bottle down\n",
      "25 number of bottles left.\n",
      "\n",
      "25 number of bottles on the wall\n",
      "25 number of bottles\n",
      "Take one bottle down\n",
      "24 number of bottles left.\n",
      "\n",
      "24 number of bottles on the wall\n",
      "24 number of bottles\n",
      "Take one bottle down\n",
      "23 number of bottles left.\n",
      "\n",
      "23 number of bottles on the wall\n",
      "23 number of bottles\n",
      "Take one bottle down\n",
      "22 number of bottles left.\n",
      "\n",
      "22 number of bottles on the wall\n",
      "22 number of bottles\n",
      "Take one bottle down\n",
      "21 number of bottles left.\n",
      "\n",
      "21 number of bottles on the wall\n",
      "21 number of bottles\n",
      "Take one bottle down\n",
      "20 number of bottles left.\n",
      "\n",
      "20 number of bottles on the wall\n",
      "20 number of bottles\n",
      "Take one bottle down\n",
      "19 number of bottles left.\n",
      "\n",
      "19 number of bottles on the wall\n",
      "19 number of bottles\n",
      "Take one bottle down\n",
      "18 number of bottles left.\n",
      "\n",
      "18 number of bottles on the wall\n",
      "18 number of bottles\n",
      "Take one bottle down\n",
      "17 number of bottles left.\n",
      "\n",
      "17 number of bottles on the wall\n",
      "17 number of bottles\n",
      "Take one bottle down\n",
      "16 number of bottles left.\n",
      "\n",
      "16 number of bottles on the wall\n",
      "16 number of bottles\n",
      "Take one bottle down\n",
      "15 number of bottles left.\n",
      "\n",
      "15 number of bottles on the wall\n",
      "15 number of bottles\n",
      "Take one bottle down\n",
      "14 number of bottles left.\n",
      "\n",
      "14 number of bottles on the wall\n",
      "14 number of bottles\n",
      "Take one bottle down\n",
      "13 number of bottles left.\n",
      "\n",
      "13 number of bottles on the wall\n",
      "13 number of bottles\n",
      "Take one bottle down\n",
      "12 number of bottles left.\n",
      "\n",
      "12 number of bottles on the wall\n",
      "12 number of bottles\n",
      "Take one bottle down\n",
      "11 number of bottles left.\n",
      "\n",
      "11 number of bottles on the wall\n",
      "11 number of bottles\n",
      "Take one bottle down\n",
      "10 number of bottles left.\n",
      "\n",
      "10 number of bottles on the wall\n",
      "10 number of bottles\n",
      "Take one bottle down\n",
      "9 number of bottles left.\n",
      "\n",
      "9 number of bottles on the wall\n",
      "9 number of bottles\n",
      "Take one bottle down\n",
      "8 number of bottles left.\n",
      "\n",
      "8 number of bottles on the wall\n",
      "8 number of bottles\n",
      "Take one bottle down\n",
      "7 number of bottles left.\n",
      "\n",
      "7 number of bottles on the wall\n",
      "7 number of bottles\n",
      "Take one bottle down\n",
      "6 number of bottles left.\n",
      "\n",
      "6 number of bottles on the wall\n",
      "6 number of bottles\n",
      "Take one bottle down\n",
      "5 number of bottles left.\n",
      "\n",
      "5 number of bottles on the wall\n",
      "5 number of bottles\n",
      "Take one bottle down\n",
      "4 number of bottles left.\n",
      "\n",
      "4 number of bottles on the wall\n",
      "4 number of bottles\n",
      "Take one bottle down\n",
      "3 number of bottles left.\n",
      "\n",
      "3 number of bottles on the wall\n",
      "3 number of bottles\n",
      "Take one bottle down\n",
      "2 number of bottles left.\n",
      "\n",
      "2 number of bottles on the wall\n",
      "2 number of bottles\n",
      "Take one bottle down\n",
      "1 number of bottle left.\n",
      "\n",
      "1 number of bottle on the wall\n",
      "1 number of bottle\n",
      "Take one bottle down\n",
      "No more bottles on the wall.\n",
      "\n"
     ]
    }
   ],
   "source": [
    "word = 'bottles'\n",
    "for num in range(50, 0 , -1):\n",
    "    print(num , 'number of', word , 'on the wall')\n",
    "    print(num, 'number of', word)\n",
    "    print('Take one bottle down')\n",
    "    if num == 1:\n",
    "        print('No more bottles on the wall.')\n",
    "    else:\n",
    "        new_num = num-1\n",
    "        if new_num == 1:\n",
    "            word = 'bottle'\n",
    "        print(num-1, 'number of', word,'left.')\n",
    "    print()"
   ]
  },
  {
   "cell_type": "code",
   "execution_count": 1,
   "id": "fe9a9cb7",
   "metadata": {},
   "outputs": [
    {
     "name": "stdout",
     "output_type": "stream",
     "text": [
      "How many numbers5\n",
      "Enter the numbers: 2\n",
      "Enter the numbers: 3\n",
      "Enter the numbers: 4\n",
      "Enter the numbers: 5\n",
      "Enter the numbers: 6\n",
      "Average of the numbers is 4.0\n"
     ]
    }
   ],
   "source": [
    "b = int(input('How many numbers'))\n",
    "sum = 0\n",
    "for num in range(b):\n",
    "    a = float(input('Enter the numbers: '))\n",
    "    sum = sum+a\n",
    "avg = sum/b\n",
    "print('Average of the numbers is', avg)\n",
    "\n",
    "    \n"
   ]
  },
  {
   "cell_type": "code",
   "execution_count": 2,
   "id": "d3b070ba",
   "metadata": {},
   "outputs": [
    {
     "name": "stdout",
     "output_type": "stream",
     "text": [
      "Enter the radius of the circle: 3\n",
      "The area of the circle is 28.259999999999998\n"
     ]
    }
   ],
   "source": [
    "a = float(input('Enter the radius of the circle: '))\n",
    "b = float(3.14*a*a)\n",
    "print('The area of the circle is', b)"
   ]
  },
  {
   "cell_type": "code",
   "execution_count": 10,
   "id": "b8045107",
   "metadata": {},
   "outputs": [
    {
     "name": "stdout",
     "output_type": "stream",
     "text": [
      "Enter the first number:20\n",
      "Enter the secomd number:17\n",
      "The difference between the two numbers is:  3.0\n"
     ]
    }
   ],
   "source": [
    "a = float(input('Enter the first number:'))\n",
    "b = float(input('Enter the secomd number:'))\n",
    "c = float(a-b)\n",
    "print('The difference between the two numbers is: ', c)\n"
   ]
  },
  {
   "cell_type": "code",
   "execution_count": 16,
   "id": "f8ee1291",
   "metadata": {},
   "outputs": [
    {
     "name": "stdout",
     "output_type": "stream",
     "text": [
      "Enter the first number: 2\n",
      "Enter the secomd number:2\n",
      "Enter the third number:2\n",
      "18.0\n"
     ]
    }
   ],
   "source": [
    "a = float(input('Enter the first number: '))\n",
    "b = float(input('Enter the secomd number:'))\n",
    "c = float(input('Enter the third number:'))\n",
    "if a == b == c:\n",
    "    sum = float((a+b+c)*3)\n",
    "else:\n",
    "    sum = float(a+b+c)\n",
    "print(sum)"
   ]
  },
  {
   "cell_type": "code",
   "execution_count": 18,
   "id": "2c825a37",
   "metadata": {},
   "outputs": [
    {
     "name": "stdout",
     "output_type": "stream",
     "text": [
      "Enter the first number: 3\n",
      "Enter the second number:4\n",
      "49.0\n"
     ]
    }
   ],
   "source": [
    "a = float(input('Enter the first number: '))\n",
    "b = float(input('Enter the second number:'))\n",
    "c = float(a*a + b*b + 2*a*b)\n",
    "print(c)"
   ]
  },
  {
   "cell_type": "code",
   "execution_count": 16,
   "id": "0efacaad",
   "metadata": {},
   "outputs": [
    {
     "data": {
      "text/plain": [
       "(2, 2022, 2, 4, 5)"
      ]
     },
     "execution_count": 16,
     "metadata": {},
     "output_type": "execute_result"
    }
   ],
   "source": [
    "a = (2,2,4,5)\n",
    "b = list(a)\n",
    "b.insert(1,2022)\n",
    "a_new= tuple(b)\n",
    "a_new\n",
    "\n"
   ]
  },
  {
   "cell_type": "code",
   "execution_count": null,
   "id": "43d0fbc6",
   "metadata": {},
   "outputs": [],
   "source": [
    "#new dir path use raw string r or forward slash \\\\"
   ]
  },
  {
   "cell_type": "code",
   "execution_count": 27,
   "id": "e08de717",
   "metadata": {},
   "outputs": [
    {
     "data": {
      "text/plain": [
       "'C:\\\\Users\\\\ankit\\\\Documents\\\\Ankita'"
      ]
     },
     "execution_count": 27,
     "metadata": {},
     "output_type": "execute_result"
    }
   ],
   "source": [
    "import os\n",
    "os.getcwd()\n",
    "nwd = r'C:\\Users\\ankit\\Documents\\Ankita'\n",
    "os.chdir(nwd)\n",
    "os.getcwd()"
   ]
  },
  {
   "cell_type": "code",
   "execution_count": 47,
   "id": "c738d1e6",
   "metadata": {},
   "outputs": [
    {
     "name": "stdout",
     "output_type": "stream",
     "text": [
      "My name is Ankita!This text file has been read once. \n",
      "This text file has been read once. \n",
      "This text file has been read once. \n",
      "This text file has been read once.\n",
      "\n"
     ]
    }
   ],
   "source": [
    "tf = open('ankita.txt','r+')\n",
    "print(tf.read())\n",
    "tf.write('This text file has been read once.\\n')\n",
    "tf.close()"
   ]
  },
  {
   "cell_type": "markdown",
   "id": "ef8ee76c",
   "metadata": {},
   "source": [
    "### "
   ]
  },
  {
   "cell_type": "code",
   "execution_count": 48,
   "id": "2c114074",
   "metadata": {},
   "outputs": [
    {
     "data": {
      "text/plain": [
       "0.95"
      ]
     },
     "execution_count": 48,
     "metadata": {},
     "output_type": "execute_result"
    }
   ],
   "source": [
    "import random as rd\n",
    "rn2 = round(rd.random(),2)\n",
    "rn2"
   ]
  },
  {
   "cell_type": "code",
   "execution_count": 55,
   "id": "7527df5f",
   "metadata": {},
   "outputs": [
    {
     "data": {
      "text/plain": [
       "73.0"
      ]
     },
     "execution_count": 55,
     "metadata": {},
     "output_type": "execute_result"
    }
   ],
   "source": [
    "import random \n",
    "a = float(random.randint(0,100))\n",
    "b = round(a, 1)\n",
    "b"
   ]
  },
  {
   "cell_type": "code",
   "execution_count": 58,
   "id": "a2f1e779",
   "metadata": {},
   "outputs": [
    {
     "name": "stdout",
     "output_type": "stream",
     "text": [
      "['Male', 'Female', 'Male', 'Male', 'Female', 'Other gender']\n"
     ]
    }
   ],
   "source": [
    "mylist = [1,0,1,1,0,2]\n",
    "newlist= []\n",
    "for n in mylist:\n",
    "    if n == 1:\n",
    "        a= 'Male'\n",
    "        newlist.append(a)\n",
    "    elif n == 2:\n",
    "        c= 'Other gender'\n",
    "        newlist.append(c)\n",
    "    else:\n",
    "        b = 'Female'\n",
    "        newlist.append(b)\n",
    "print(newlist)"
   ]
  },
  {
   "cell_type": "code",
   "execution_count": 67,
   "id": "f81985db",
   "metadata": {},
   "outputs": [
    {
     "data": {
      "text/plain": [
       "list[[1, 0, 1, 1, 0, 2]]"
      ]
     },
     "execution_count": 67,
     "metadata": {},
     "output_type": "execute_result"
    }
   ],
   "source": [
    "mylist = [1,0,1,1,0,2]\n"
   ]
  },
  {
   "cell_type": "code",
   "execution_count": 9,
   "id": "64735b60",
   "metadata": {},
   "outputs": [
    {
     "name": "stdout",
     "output_type": "stream",
     "text": [
      "Enter a number: 21\n",
      "The number is odd.\n"
     ]
    }
   ],
   "source": [
    "def odd_even():\n",
    "    a = float(input('Enter a number: '))\n",
    "    if a % 2 == 0:\n",
    "        print('The number is even.')\n",
    "    else:\n",
    "        print('The number is odd.')\n",
    "      \n",
    "odd_even()\n"
   ]
  },
  {
   "cell_type": "code",
   "execution_count": 20,
   "id": "5ed92c33",
   "metadata": {},
   "outputs": [
    {
     "name": "stdout",
     "output_type": "stream",
     "text": [
      "[1, 3, 4, 5]\n",
      "['a', 'c', 'd', 'e']\n"
     ]
    }
   ],
   "source": [
    "list = [1, 'a', 3, 'c', 4 , 'd', 5 , 'e']\n",
    "num = []\n",
    "alpha_list=[]\n",
    "for n in (list):\n",
    "    if type(n) == int or type(n)== float:\n",
    "        num.append(n)\n",
    "    else:\n",
    "        alpha_list.extend(n)\n",
    "print(num)\n",
    "print(alpha_list)"
   ]
  },
  {
   "cell_type": "code",
   "execution_count": 5,
   "id": "31530eb0",
   "metadata": {},
   "outputs": [
    {
     "data": {
      "text/plain": [
       "'ankita'"
      ]
     },
     "execution_count": 5,
     "metadata": {},
     "output_type": "execute_result"
    }
   ],
   "source": [
    "a = 'ankita'\n",
    "b = list(a)\n",
    "b\n",
    "''.join(b)\n"
   ]
  },
  {
   "cell_type": "code",
   "execution_count": 23,
   "id": "55c50bee",
   "metadata": {},
   "outputs": [
    {
     "name": "stdout",
     "output_type": "stream",
     "text": [
      "Enter a number: 20\n",
      "[20, 19, 18, 17, 16, 15, 14, 13, 12, 11, 10, 9, 8, 7, 6, 5, 4, 3, 2, 1, 0]\n"
     ]
    }
   ],
   "source": [
    "def count_down():\n",
    "    a = int(input('Enter a number: '))\n",
    "    n = range(a , -1 ,-1)\n",
    "    b = list(n)\n",
    "    print(b)\n",
    "        \n",
    "        \n",
    "count_down()\n"
   ]
  },
  {
   "cell_type": "code",
   "execution_count": 19,
   "id": "9e308660",
   "metadata": {},
   "outputs": [
    {
     "data": {
      "text/plain": [
       "[10, 9, 8, 7, 6, 5, 4, 3, 2, 1]"
      ]
     },
     "execution_count": 19,
     "metadata": {},
     "output_type": "execute_result"
    }
   ],
   "source": [
    "a = range (10, 0, -1)\n",
    "list(a)"
   ]
  },
  {
   "cell_type": "code",
   "execution_count": 32,
   "id": "b827b14e",
   "metadata": {},
   "outputs": [
    {
     "name": "stdout",
     "output_type": "stream",
     "text": [
      "Enter the base number: 2\n",
      "Enter the power number: 3\n",
      "8\n"
     ]
    }
   ],
   "source": [
    "def power():\n",
    "    a= int(input('Enter the base number: '))\n",
    "    b = int(input('Enter the power number: '))\n",
    "    c = a**b\n",
    "    print (c)\n",
    "    \n",
    "power()"
   ]
  },
  {
   "cell_type": "code",
   "execution_count": 15,
   "id": "548ca04d",
   "metadata": {},
   "outputs": [
    {
     "data": {
      "text/plain": [
       "[4, 5, 6, 8, 10, 12, 12, 15, 18]"
      ]
     },
     "execution_count": 15,
     "metadata": {},
     "output_type": "execute_result"
    }
   ],
   "source": [
    "def mult():\n",
    "    a = [1,2,3]\n",
    "    b = [4,5,6]\n",
    "    c = []\n",
    "    for i in a:\n",
    "        for j in b:\n",
    "            z = i*j\n",
    "            c.append(z)\n",
    "    return(c)\n",
    "            \n",
    "mult()"
   ]
  },
  {
   "cell_type": "code",
   "execution_count": 46,
   "id": "102d126c",
   "metadata": {},
   "outputs": [
    {
     "name": "stdout",
     "output_type": "stream",
     "text": [
      "[2, 22, 34]\n",
      "[21, 51]\n"
     ]
    }
   ],
   "source": [
    "a = [21, 2, 22, 34, 51]\n",
    "b = []\n",
    "c = []\n",
    "for i in a:\n",
    "    if i%2 == 0:\n",
    "        b.append(i)\n",
    "    else:\n",
    "        c.append(i)\n",
    "print(b)\n",
    "print(c)"
   ]
  },
  {
   "cell_type": "code",
   "execution_count": 3,
   "id": "509c8940",
   "metadata": {},
   "outputs": [
    {
     "data": {
      "text/plain": [
       "['My', 'name', 'is', 'Ankita', 'Singh']"
      ]
     },
     "execution_count": 3,
     "metadata": {},
     "output_type": "execute_result"
    }
   ],
   "source": [
    "s0 = 'python'\n",
    "s0[::-1]\n",
    "s1 = 'My name is Ankita Singh'\n",
    "list(s1.split())"
   ]
  }
 ],
 "metadata": {
  "kernelspec": {
   "display_name": "Python 3 (ipykernel)",
   "language": "python",
   "name": "python3"
  },
  "language_info": {
   "codemirror_mode": {
    "name": "ipython",
    "version": 3
   },
   "file_extension": ".py",
   "mimetype": "text/x-python",
   "name": "python",
   "nbconvert_exporter": "python",
   "pygments_lexer": "ipython3",
   "version": "3.9.13"
  }
 },
 "nbformat": 4,
 "nbformat_minor": 5
}
